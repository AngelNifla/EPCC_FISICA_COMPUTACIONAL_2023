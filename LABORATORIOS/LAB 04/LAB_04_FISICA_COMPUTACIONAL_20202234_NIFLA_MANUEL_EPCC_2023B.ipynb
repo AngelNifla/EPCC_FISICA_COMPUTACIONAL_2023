{
  "nbformat": 4,
  "nbformat_minor": 0,
  "metadata": {
    "colab": {
      "provenance": []
    },
    "kernelspec": {
      "name": "python3",
      "display_name": "Python 3"
    },
    "language_info": {
      "name": "python"
    }
  },
  "cells": [
    {
      "cell_type": "markdown",
      "source": [
        "<center><img src=\"https://semcomp-epcc-unsa.github.io/assets/images/cslogos/logo-only.png\" width=\"120\">\n",
        "\n",
        "\n",
        "$\\tiny{Universidad \\ Nacional \\ de \\ San \\ Agustín \\ de \\ Arequipa \\\\\n",
        "Escuela \\ Profesional \\ de \\ Ciencia \\ de \\ la \\ Computación  }$\n",
        "\n",
        "---"
      ],
      "metadata": {
        "id": "_HWdlbWOSPwC"
      }
    },
    {
      "cell_type": "markdown",
      "source": [
        " <center>\n",
        " $\\LARGE{Laboratorio \\ 04}$\n",
        " </center>\n",
        "\n",
        "\n",
        "**Curso:** *Física Computacional*\n",
        "\n",
        "**Profesor:** *Apaza Veliz, Danny Giancarlo*\n",
        "\n",
        "**Alumno:** *Nifla Llallacachi, Manuel Angel* \\\\\n",
        "\n",
        "**LINK Colab:** [*Lab04_Física_Computacional_2023B*](https://colab.research.google.com/drive/1UIuSwPLjXC9mVzYJhIMA7xmkANIz9CA7#scrollTo=Mi0WJy9HxOVG)\n",
        "\n",
        "\n",
        "\\\\\n",
        "\n",
        "---\n",
        "\n",
        "\\\\\n",
        "\n",
        "#### **Ejercicio:**\n",
        "Implementación de código para hallar:\n",
        "\n",
        "*   Posición del Centro de Masa.\n",
        "*   Velocidad del Centro de Masa.\n",
        "*   Momento Lineal del Centro de Masa.\n",
        "*   Aceleración del Centro de Masa.\n",
        "*   Fuerza Total del Centro de Masa.\n",
        "\n"
      ],
      "metadata": {
        "id": "Mi0WJy9HxOVG"
      }
    },
    {
      "cell_type": "markdown",
      "source": [
        "\n",
        "\\\\\n",
        "\n",
        "-------------------\n",
        "\\\\\n",
        "\n",
        "\n",
        "### $SOLUCION \\ EJERCICIO $\n"
      ],
      "metadata": {
        "id": "2Lyy1US9P3VG"
      }
    },
    {
      "cell_type": "markdown",
      "source": [
        "##***ANALISIS:***\n",
        "\n",
        "La dinámica de un sistema de partículas se refiere al estudio del movimiento de un conjunto de partículas interactuantes bajo la acción de fuerzas.\n",
        "\n",
        "<center><img src=\"https://www.lifeder.com/wp-content/uploads/2020/11/sistema-de-particulas-1.jpg\" width=\"400\"></center>\n",
        "\n",
        "Descripción:\n",
        "\n",
        "*   **Posición del Centro de Masa ($R_{cm}$):** <center> $R_{cm} = \\frac{\\sum{m_ix_i}}{M}$ </center>\n",
        "\\\n",
        "Donde $m_i$ es la masa de una partícula, $M$ es la suma de las masas de las partículas y $x_i$ es la posición inicial de una partícula.\n",
        "\n",
        "*   **Velocidad del Centro de Masa  ($V_{cm}$):** <center> $V_{cm} = \\frac{\\sum{m_iv_i}}{M}$ </center>\n",
        "\\\n",
        "Donde $m_i$ es la masa de una partícula, $M$ es la suma de las masas de las partículas y $v_i$ es la velocidad inicial de una partícula.\n",
        "\n",
        "*   **Momento Lineal del Centro de Masa ($P_{cm}$):** <center> $P_{cm} = \\sum{m_iv_i}$ </center>\n",
        "\\\n",
        "Donde $m_i$ es la masa de una partícula y $v_i$ es la velocidad inicial de una partícula.\n",
        "\n",
        "*   **Aceleración del Centro de Masa ($A_{cm}$):**  <center> $A_{cm} = \\frac{\\sum{m_ia_i}}{M}$</center>\n",
        "\\\n",
        "Donde $m_i$ es la masa de una partícula, $M$ es la suma de las masas de las partículas y $a_i$ es la aceleración de una partícula.\n",
        "\n",
        "*   **Fuerza Total del Centro de Masa ($F_{cm}$):** <center> $F_{cm} = \\sum{m_ia_i}$</center>\n",
        "\\\n",
        "Donde $m_i$ es la masa de una partícula y $a_i$ es la aceleración de una partícula.\n",
        "\n",
        "**Condiciones**\n",
        "\n",
        "*   En las fórmulas $M$ debe ser positiva.\n",
        "\n",
        "\\\n",
        "En conclusión, la implementación del código presenta una interfaz tipo calculadora la cual permite hallar los valores de las propiedades de la Dinámica de Partículas, permitiendo el ingreso de datos positivos para la $m_i$, $v_i$ y $a_i$, caso contrario volverá a pedir nuevos datos para así cumplir con las condiciones. El ingreso de estos datos se hara en su expresion (x,y,z).\n",
        "\n",
        "\n"
      ],
      "metadata": {
        "id": "0mJFHFT-oEny"
      }
    },
    {
      "cell_type": "markdown",
      "source": [
        "###**CODIGO (INTERFAZ- GitHub): [Calculadora_Dinámica_de_Partículas.py](https://github.com/AngelNifla/EPCC_FISICA_COMPUTACIONAL_2023/tree/main/LABORATORIOS/LAB%2004)**"
      ],
      "metadata": {
        "id": "8YtCrYZ8wTIm"
      }
    },
    {
      "cell_type": "markdown",
      "source": [
        "###***CODIGO (CONSOLA):***"
      ],
      "metadata": {
        "id": "UGx2uWH4wOPi"
      }
    },
    {
      "cell_type": "code",
      "execution_count": null,
      "metadata": {
        "colab": {
          "base_uri": "https://localhost:8080/"
        },
        "id": "ZClu7N8PMaND",
        "outputId": "2b089354-aa7b-4664-f414-da44b1a3effc"
      },
      "outputs": [
        {
          "output_type": "stream",
          "name": "stdout",
          "text": [
            "\tCalculadora - Dinámica de Sistema de Partículas\n",
            "\n",
            "Numero de Particulas: 2\n",
            "-> Partícula N° 1 :\n",
            "Masa: 2\n",
            "Posición (x,y,z):\n",
            "x: 1\n",
            "y: 0\n",
            "z: 0\n",
            "Velocidad (x,y,z):\n",
            "x: 2\n",
            "y: 0\n",
            "z: 0\n",
            "Aceleración (x,y,z):\n",
            "x: 1\n",
            "y: 0\n",
            "z: 0\n",
            "AGREGADA CORRECTAMENTE! \n",
            " Partícula con Masa = 2.0\n",
            " Posición = (1.0, 0.0, 0.0)\n",
            " Velocidad = (2.0, 0.0, 0.0)\n",
            " Aceleracion = (1.0, 0.0, 0.0)\n",
            "\n",
            "-> Partícula N° 2 :\n",
            "Masa: 3\n",
            "Posición (x,y,z):\n",
            "x: 3\n",
            "y: 0\n",
            "z: 0\n",
            "Velocidad (x,y,z):\n",
            "x: -1\n",
            "y: 0\n",
            "z: 0\n",
            "Aceleración (x,y,z):\n",
            "x: 1\n",
            "y: 0\n",
            "z: 0\n",
            "AGREGADA CORRECTAMENTE! \n",
            " Partícula con Masa = 3.0\n",
            " Posición = (3.0, 0.0, 0.0)\n",
            " Velocidad = (-1.0, 0.0, 0.0)\n",
            " Aceleracion = (1.0, 0.0, 0.0)\n",
            "\n",
            "\t\tSOLUCIONES\t\t\n",
            "\n",
            "Posición del Centro de Masa  -> (2.2, 0.0, 0.0) \t con Modulo \t=\t 2.2 \tm\n",
            "\n",
            "Velocidad del Centro de Masa  -> (0.2, 0.0, 0.0) \t con Modulo \t=\t 0.2\tm/s\n",
            "\n",
            "Momento Lineal del Centro de Masa  -> (1.0, 0.0, 0.0) \t con Modulo \t=\t 1.0\tkg*m/s\n",
            "\n",
            "Aceleración del Centro de Masa   -> (1.0, 0.0, 0.0) \t con Modulo \t=\t 1.0 \tm/s^2\n",
            "\n",
            "Fuerza Total del Centro de Masa  -> (5.0, 0.0, 0.0) \t con Modulo \t=\t 5.0 \tN\n",
            "\n"
          ]
        }
      ],
      "source": [
        "import math as math\n",
        "\n",
        "print(\"\\tCalculadora - Dinámica de Sistema de Partículas\\n\")\n",
        "\n",
        "masses = []\n",
        "velocities = {'x': [], 'y': [], 'z': []}\n",
        "positions = {'x': [], 'y': [], 'z': []}\n",
        "aceleracion = {'x': [], 'y': [], 'z': []}\n",
        "\n",
        "N = int(input(\"Numero de Particulas: \"))\n",
        "aux=0\n",
        "\n",
        "#Ingresando Datos\n",
        "for i in range(N):\n",
        "  aux=aux+1\n",
        "  print(\"-> Partícula N°\",aux,\":\")\n",
        "  a = float(input(\"Masa: \"))\n",
        "  masses.append(a)\n",
        "  print(\"Posición (x,y,z):\")\n",
        "  x = float(input(\"x: \"))\n",
        "  positions['x'].append(x)\n",
        "  y = float(input(\"y: \"))\n",
        "  positions['y'].append(y)\n",
        "  z = float(input(\"z: \"))\n",
        "  positions['z'].append(z)\n",
        "  print(\"Velocidad (x,y,z):\")\n",
        "  x = float(input(\"x: \"))\n",
        "  velocities['x'].append(x)\n",
        "  y = float(input(\"y: \"))\n",
        "  velocities['y'].append(y)\n",
        "  z = float(input(\"z: \"))\n",
        "  velocities['z'].append(z)\n",
        "  print(\"Aceleración (x,y,z):\")\n",
        "  x = float(input(\"x: \"))\n",
        "  aceleracion['x'].append(x)\n",
        "  y = float(input(\"y: \"))\n",
        "  aceleracion['y'].append(y)\n",
        "  z = float(input(\"z: \"))\n",
        "  aceleracion['z'].append(z)\n",
        "\n",
        "  mass = masses[-1]\n",
        "  x = positions['x'][-1]\n",
        "  y = positions['y'][-1]\n",
        "  z = positions['z'][-1]\n",
        "  vx = velocities['x'][-1]\n",
        "  vy = velocities['y'][-1]\n",
        "  vz = velocities['z'][-1]\n",
        "  ax = aceleracion['x'][-1]\n",
        "  ay = aceleracion['y'][-1]\n",
        "  az = aceleracion['z'][-1]\n",
        "\n",
        "  result = f\"AGREGADA CORRECTAMENTE! \\n Partícula con Masa = {mass}\\n Posición = ({x}, {y}, {z})\\n Velocidad = ({vx}, {vy}, {vz})\\n Aceleracion = ({ax}, {ay}, {az})\\n\"\n",
        "  print(result)\n",
        "\n",
        "print(\"\\t\\tSOLUCIONES\\t\\t\\n\")\n",
        "total_mass = sum(masses)\n",
        "\n",
        "#   Posición del Centro de Masa\n",
        "x_cm = sum(m * x for m, x in zip(masses, positions['x'])) / total_mass\n",
        "y_cm = sum(m * y for m, y in zip(masses, positions['y'])) / total_mass\n",
        "z_cm = sum(m * z for m, z in zip(masses, positions['z'])) / total_mass\n",
        "mod = round(math.sqrt(x_cm**2 + y_cm**2 + z_cm**2),2)\n",
        "\n",
        "result = f\"Posición del Centro de Masa  -> ({round(x_cm,2)}, {round(y_cm,2)}, {round(z_cm,2)}) \\t con Modulo \\t=\\t {mod} \\tm\\n\"\n",
        "print(result)\n",
        "\n",
        "#   Velocidad del Centro de Masa\n",
        "vx_cm = sum(m * vx for m, vx in zip(masses, velocities['x']))\n",
        "vy_cm = sum(m * vy for m, vy in zip(masses, velocities['y']))\n",
        "vz_cm = sum(m * vz for m, vz in zip(masses, velocities['z']))\n",
        "mod = round(math.sqrt((vx_cm/total_mass)**2 + (vy_cm/total_mass)**2 + (vz_cm/total_mass)**2),2)\n",
        "\n",
        "result = f\"Velocidad del Centro de Masa  -> ({round(vx_cm/total_mass,2)}, {round(vy_cm/total_mass,2)}, {round(vz_cm/total_mass,2)}) \\t con Modulo \\t=\\t {mod}\\tm/s\\n\"\n",
        "print(result)\n",
        "\n",
        "#   Momento Lineal del Centro de Masa\n",
        "mod = round(math.sqrt(vx_cm**2 + vy_cm**2 + vz_cm**2),2)\n",
        "\n",
        "result = f\"Momento Lineal del Centro de Masa  -> ({round(vx_cm,2)}, {round(vy_cm,2)}, {round(vz_cm,2)}) \\t con Modulo \\t=\\t {mod}\\tkg*m/s\\n\"\n",
        "print(result)\n",
        "\n",
        "#   Aceleracion del Centro de Masa\n",
        "ax_cm = sum(m * x for m, x in zip(masses, aceleracion['x']))\n",
        "ay_cm = sum(m * y for m, y in zip(masses, aceleracion['y']))\n",
        "az_cm = sum(m * z for m, z in zip(masses, aceleracion['z']))\n",
        "mod = round(math.sqrt((ax_cm/total_mass)**2 + (ay_cm/total_mass)**2 + (az_cm/total_mass)**2),2)\n",
        "\n",
        "result = f\"Aceleración del Centro de Masa   -> ({round(ax_cm/total_mass,2)}, {round(ay_cm/total_mass,2)}, {round(az_cm/total_mass,2)}) \\t con Modulo \\t=\\t {mod} \\tm/s^2\\n\"\n",
        "print(result)\n",
        "#   Fuerza Total del Centro de Masa\n",
        "mod = round(math.sqrt(ax_cm**2 + ay_cm**2 + az_cm**2),2)\n",
        "\n",
        "result = f\"Fuerza Total del Centro de Masa  -> ({round(ax_cm,2)}, {round(ay_cm,2)}, {round(az_cm,2)}) \\t con Modulo \\t=\\t {mod} \\tN\\n\"\n",
        "print(result)\n"
      ]
    }
  ]
}