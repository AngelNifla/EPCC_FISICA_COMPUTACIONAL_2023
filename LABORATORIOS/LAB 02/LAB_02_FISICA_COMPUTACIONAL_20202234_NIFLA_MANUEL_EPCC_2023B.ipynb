{
  "nbformat": 4,
  "nbformat_minor": 0,
  "metadata": {
    "colab": {
      "provenance": []
    },
    "kernelspec": {
      "name": "python3",
      "display_name": "Python 3"
    },
    "language_info": {
      "name": "python"
    }
  },
  "cells": [
    {
      "cell_type": "markdown",
      "source": [
        "<center><img src=\"https://semcomp-epcc-unsa.github.io/assets/images/cslogos/logo-only.png\" width=\"120\">\n",
        "\n",
        "\n",
        "$\\tiny{Universidad \\ Nacional \\ de \\ San \\ Agustín \\ de \\ Arequipa \\\\\n",
        "Escuela \\ Profesional \\ de \\ Ciencia \\ de \\ la \\ Computación  }$\n",
        "\n",
        "---"
      ],
      "metadata": {
        "id": "_HWdlbWOSPwC"
      }
    },
    {
      "cell_type": "markdown",
      "source": [
        "# <center>  $Laboratorio \\ 02$\n",
        "\n",
        "**Curso:** *Física Computacional*\n",
        "\n",
        "**Profesor:** *Apaza Veliz, Danny Giancarlo*\n",
        "\n",
        "**Alumno:** *Nifla Llallacachi, Manuel Angel* \\\\\n",
        "\n",
        "\n",
        "**LINK Colab:** [*Lab02_Física_Computacional_2023B*](https://colab.research.google.com/drive/1PuGUBwMZzO3ILetMuA8kdMpWzSeZUNxe?usp=sharing) \\\\\n",
        "\n",
        "\\\\\n",
        "\n",
        "---\n",
        "\n",
        "\\\\\n",
        "\n",
        "#### **Ejercicios:**\n",
        "1. Escriba un código donde se emplee máquina de Atwood para determinar la magnitud de la aceleración de dos objetos y la tensión en la cuerda sin peso.\n",
        "\n",
        "2. Un móvil de masa $m$ recorre una distancia $d$ en un tiempo $t$, al inicio tiene una velocidad inicial $vi$ y una velocidad final $vf$ . Escriba un código que determine la fuerza que describe el móvil al momento de realizar el cambio de velocidad y grafique el proceso."
      ],
      "metadata": {
        "id": "Mi0WJy9HxOVG"
      }
    },
    {
      "cell_type": "markdown",
      "source": [
        "\n",
        "\\\\\n",
        "\n",
        "-------------------\n",
        "\\\\\n",
        "\n",
        "\n",
        "### $SOLUCION \\ EJERCICIO \\ 01$\n"
      ],
      "metadata": {
        "id": "2Lyy1US9P3VG"
      }
    },
    {
      "cell_type": "markdown",
      "source": [
        "##***ANALISIS:***\n",
        "\n",
        "La máquina de Atwood es un dispositivo simple que se utiliza para determinar la aceleración de dos objetos unidos por una cuerda que pasa sobre una polea sin fricción. Para calcular la magnitud de la aceleración y la tensión en la cuerda se utiliza la segunda ley de Newton:   $∑F = ma$.\n",
        "\\\n",
        "\\\n",
        "Teniendo dos bloques con masas $m1$ y $m2$, donde $m1 > m2$, se obtiene las siguientes ecuaciones:\n",
        "<center><img src=\"https://upload.wikimedia.org/wikipedia/commons/thumb/c/cb/Atwood.svg/220px-Atwood.svg.png\" width=\"180\">\n",
        "\n",
        "\n",
        "1. $W1 - T = m1 * a$\n",
        "2. $T - W2= m2 * a$\n",
        "</center>\n",
        "Donde $W = mg$\n",
        "\n",
        "Al resolver el sistema tenemos que:\n",
        "\n",
        "<center>\n",
        "$a = \\frac{m1-m2}{m1+m2}*g$\n",
        "\n",
        "$T = m2*(a+g)$\n",
        "</center>\n",
        "\n",
        "**Condiciones**\n",
        "\n",
        "*   En la fórmula, para hallar la magnitud de la aceleración se tiene que $m1 + m2 ≠ 0$, lo que se resumiría en que tanto $m1 ∧ m2 ≥ 0$.\n",
        "*   La magnitud de la gravedad debe ser positiva.\n",
        "\n",
        "\\\n",
        "En conclusión, la implementación de este código permite hallar las magnitudes de la aceleración y la tensión de la cuerda, permitiendo solo el ingreso de datos positivos para las masas y la gravedad, caso contrario volverá a pedir nuevos datos para así cumplir con las condiciones.\n",
        "\n",
        "##***CODIGO:***"
      ],
      "metadata": {
        "id": "0mJFHFT-oEny"
      }
    },
    {
      "cell_type": "code",
      "source": [
        "                              #MAQUINA DE ATWOOD\n",
        "print(\"1) Hallar la Aceleración y Tension de la Cuerda.\")\n",
        "print(\"0) Salir\")\n",
        "AUX = float(input())\n",
        "while AUX != 0:\n",
        "  m1 = float(input(\"Ingrese la masa del objeto 1 (en kg): \"))   #masa 1 en (kg) mayor\n",
        "  while m1<0:\n",
        "    m1 = float(input(\"Ingrese la masa del objeto 1 (en kg, positivo): \"))\n",
        "  m2 = float(input(\"Ingrese la masa del objeto 2 (en kg): \"))   #masa 2 en (kg) menor\n",
        "  while m2<0:\n",
        "    m2 = float(input(\"Ingrese la masa del objeto 2 (en kg, positivo): \"))\n",
        "  g = float(input(\"Ingrese la aceleración de la gravedad (9.81): \"))  # Aceleración de la gravedad en m/s^2\n",
        "  while g <0 :\n",
        "    g = float(input(\"Ingrese la aceleración de la gravedad (positivo): \"))\n",
        "\n",
        "  ###############Calculando la aceleración###############\n",
        "  aux = 0\n",
        "\n",
        "  if m2>m1:\n",
        "    aux=m2\n",
        "    m2=m1\n",
        "    m1=aux\n",
        "\n",
        "  DifMasas = m1-m2      #Diferencia de masas 1 y 2\n",
        "  SumMasas = m1+m2    #Suma de masas 1 y 2\n",
        "\n",
        "  A = (DifMasas / SumMasas)*g     #Aceleración de los cuerpos\n",
        "\n",
        "  ##########Calculando la tensión en la cuerda##########\n",
        "  T = m2*(g+A)      #Tensión de la cuerda\n",
        "\n",
        "  print(\"\\t-> La magnitud de la Aceleración es: \", round(A,2) ,\" m/s^2\")\n",
        "  print(\"\\t-> La Tensión en la cuerda es: \", round(T,2) ,\" N\\n\")\n",
        "  print(\"---------------------------------------------------------\\n\")\n",
        "\n",
        "  print(\"1) Hallar la Aceleración y Tension de la Cuerda.\")\n",
        "  print(\"0) Salir\")\n",
        "  AUX = float(input())"
      ],
      "metadata": {
        "colab": {
          "base_uri": "https://localhost:8080/"
        },
        "id": "-_cNssHYOq4E",
        "outputId": "5c5a3c5b-ab1a-4245-df14-a1abe44c8095"
      },
      "execution_count": null,
      "outputs": [
        {
          "name": "stdout",
          "output_type": "stream",
          "text": [
            "1) Hallar la Aceleración y Tension de la Cuerda.\n",
            "0) Salir\n",
            "1\n",
            "Ingrese la masa del objeto 1 (en kg): 10\n",
            "Ingrese la masa del objeto 2 (en kg): 15\n",
            "Ingrese la aceleración de la gravedad (9.81): 10\n",
            "\t-> La magnitud de la Aceleración es:  2.0  m/s^2\n",
            "\t-> La Tensión en la cuerda es:  120.0  N\n",
            "\n",
            "---------------------------------------------------------\n",
            "\n",
            "1) Hallar la Aceleración y Tension de la Cuerda.\n",
            "0) Salir\n",
            "0\n"
          ]
        }
      ]
    },
    {
      "cell_type": "markdown",
      "source": [
        "\n",
        "\\\\\n",
        "\n",
        "-------------------\n",
        "\\\\\n",
        "\n",
        "\n",
        "### $SOLUCION \\ EJERCICIO \\ 02$\n"
      ],
      "metadata": {
        "id": "e6ncl_YyN3Um"
      }
    },
    {
      "cell_type": "markdown",
      "source": [
        "##***ANALISIS:***\n",
        "\n",
        "Para determinar la fuerza que describe el móvil al cambiar su velocidad, es necesario utilizar la segunda ley de Newton, $∑F = ma$.\n",
        "\n",
        "Primero, para poder utilizar la segunda ley de Newton, se tiene que hallar la aceleración (cambio de velocidad), y para ello es necesario tener los siguientes datos, los cuales serán ingresados por teclado:\n",
        "\n",
        "1. $m$ : masa del cuerpo (kg).\n",
        "1. $∆x$ : variación de la posición del cuerpo (distancia recorrida).\n",
        "2. $Vi$  : velocidad inicial del cuerpo.\n",
        "3. $Vf$  : velocidad final del cuerpo.\n",
        "4. $∆t$ : variación del tiempo.\n",
        "\n",
        "\n",
        "\n",
        "En este caso, el cambio de velocidad se calcula como la diferencia entre la velocidad final y la velocidad inicial, es decir se utilizará la siguiente fórmula:\n",
        "\n",
        "\\\n",
        "<center><img src=\"https://matemovil.com/wp-content/uploads/2020/01/movimiento-rectil%C3%ADneo-uniformemente-variado-mruv2.jpg\" width=\"480\">\n",
        "\n",
        "\\\n",
        "$Vf = Vi + at$\n",
        "</center>\n",
        "Donde despejando $a$ tenemos:\n",
        "\n",
        "<center>\n",
        "$a = \\frac{Vf-Vi}{t}$\n",
        "</center>\n",
        "\n",
        "Una vez hallada la aceleración, se procede a hallar la fuerza usando la segunda ley de Newton:\n",
        "<center>\n",
        "$∑F = ma$\n",
        "</center>\n",
        "\n",
        "**Condiciones**\n",
        "\n",
        "*   En la fórmula para hallar la magnitud de la aceleración se tiene que $t ≠ 0$, lo que se resumiría en que  $t ≥ 0$, ya que no existe escalarmente magnitud negativa para el tiempo.\n",
        "*   Las magnitudes de $Vf$ $Vi$, deben ser positivas.\n",
        "*   Las masa $m$ debe ser positiva.\n",
        "\n",
        "\\\n",
        "En conclusión, la implementación del código permite hallar las magnitudes de la aceleración y la Fuerza presente, permitiendo solo el ingreso de datos positivos para la $Vf$, $Vi$, $t$ y $m$, caso contrario volverá a pedir nuevos datos para así cumplir con las condiciones.\n",
        "\n",
        "##***CODIGO:***"
      ],
      "metadata": {
        "id": "LwPXGG09zWjg"
      }
    },
    {
      "cell_type": "code",
      "execution_count": null,
      "metadata": {
        "colab": {
          "base_uri": "https://localhost:8080/",
          "height": 596
        },
        "id": "ZClu7N8PMaND",
        "outputId": "fd21d79c-ae3c-4175-c2c2-39d524478c48"
      },
      "outputs": [
        {
          "output_type": "stream",
          "name": "stdout",
          "text": [
            "Ingrese la masa del móvil (en kg): 15\n",
            "Ingrese la velocidad inicial (en m/s): 0\n",
            "Ingrese la velocidad final (en m/s): 100\n",
            "Ingrese el tiempo del cambio de velocidad (en segundos): 20\n",
            "\t-> La aceleración presente en el móvil es de :  5.0  m/s^2\n",
            "\t-> La Fuerza que describe el móvil:  75.0  N\n"
          ]
        },
        {
          "output_type": "display_data",
          "data": {
            "text/plain": [
              "<Figure size 1000x500 with 1 Axes>"
            ],
            "image/png": "[encoded data removed]"
          },
          "metadata": {}
        }
      ],
      "source": [
        "import matplotlib.pyplot as plt\n",
        "import numpy as np\n",
        "\n",
        "m = float(input(\"Ingrese la masa del móvil (en kg): \"))\n",
        "while m<0:\n",
        "  m = float(input(\"Ingrese la masa del móvil (en kg, positivo): \"))\n",
        "vi = float(input(\"Ingrese la velocidad inicial (en m/s): \"))\n",
        "while m<0:\n",
        "  vi = float(input(\"Ingrese la velocidad inicial (en m/s, positivo): \"))\n",
        "vf = float(input(\"Ingrese la velocidad final (en m/s): \"))\n",
        "while m<0:\n",
        "  vf = float(input(\"Ingrese la velocidad final (en m/s, positivo): \"))\n",
        "t = float(input(\"Ingrese el tiempo del cambio de velocidad (en segundos): \"))\n",
        "while m<0:\n",
        "  t = float(input(\"Ingrese el tiempo del cambio de velocidad (en segundos, positivo): \"))\n",
        "\n",
        "#################Calcula la aceleración################\n",
        "variacion_v = vf-vi\n",
        "a = variacion_v/t\n",
        "\n",
        "#################Calcula la fuerza################\n",
        "F = m * a\n",
        "if vi>vf:\n",
        "  print(\"\\t-> Al tener Vi>Vf, el cuerpo desacelera al igual que fuerza presente en el cuerpo\")\n",
        "print(\"\\t-> La aceleración presente en el móvil es de : \", round(a,2),\" m/s^2\")\n",
        "print(\"\\t-> La Fuerza que describe el móvil: \", round(F,2),\" N\")\n",
        "\n",
        "###########Gráfica de la velocidad vs tiempo###########\n",
        "t_v = np.linspace(0, t, 100)\n",
        "v_v = vi+a*t_v\n",
        "\n",
        "plt.figure(figsize=(10, 5))\n",
        "plt.plot(t_v, v_v, label=f\"Velocidad (m/s)\")\n",
        "plt.xlabel(\"Tiempo (s)\")\n",
        "plt.ylabel(\"Velocidad (m/s)\")\n",
        "plt.title(\"Cambio de Velocidad del Móvil\")\n",
        "plt.grid(True)\n",
        "plt.legend()\n",
        "plt.show()\n",
        "\n"
      ]
    }
  ]
}